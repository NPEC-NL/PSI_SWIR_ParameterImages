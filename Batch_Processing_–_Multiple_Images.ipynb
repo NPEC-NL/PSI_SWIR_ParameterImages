{
  "cells": [
    {
      "cell_type": "code",
      "execution_count": null,
      "metadata": {
        "colab": {
          "base_uri": "https://localhost:8080/"
        },
        "id": "T-Jmp60HX4KJ",
        "outputId": "1367fdc9-c216-43f5-c557-70546f74ca02"
      },
      "outputs": [
        {
          "output_type": "stream",
          "name": "stdout",
          "text": [
            "Drive already mounted at /content/drive; to attempt to forcibly remount, call drive.mount(\"/content/drive\", force_remount=True).\n"
          ]
        }
      ],
      "source": [
        "from google.colab import drive\n",
        "\n",
        "#Conect your gmail drive to the netbook\n",
        "drive.mount('/content/drive')"
      ]
    },
    {
      "cell_type": "code",
      "execution_count": null,
      "metadata": {
        "id": "eSs-uJ0VY93l"
      },
      "outputs": [],
      "source": [
        "import numpy as np\n",
        "import matplotlib.pyplot as plt\n",
        "import numpy as np\n",
        "import pandas as pd\n",
        "import sklearn as sk\n",
        "import os\n",
        "import cv2\n",
        "from datetime import datetime\n",
        "from tifffile import imwrite\n",
        "from collections import defaultdict\n"
      ]
    },
    {
      "cell_type": "markdown",
      "source": [
        "#Run the function on a folder containing several measurements."
      ],
      "metadata": {
        "id": "g3A2QqkUAwlI"
      }
    },
    {
      "cell_type": "code",
      "source": [
        "# Input and output paths\n",
        "PATHinput = '/content/drive/MyDrive/NPEC_notebooks/Hyperspectral/Input_Examples/Example900to1700wl/'\n",
        "PATHoutput = '/content/drive/MyDrive/NPEC_notebooks/Hyperspectral/Output/'\n",
        "\n",
        "# Pattern that separates measurement name from data label (e.g. data, dark, white)\n",
        "#Example my file name is 31_12_2025-03-12_23-32-36_G8_1x1_square_537_SWIR_WhiteCalibration.hdr\n",
        "#before SWIR is my measurement data after that is the type of data\n",
        "\n",
        "FILE_NAME_key = \"SWIR\" #Note FILE_Name_key should be around _\n",
        "\n",
        "Data_Suffix ='Data.bil'\n",
        "White_Suffix = 'WhiteCalibration.bil'\n",
        "Dark_Suffix = 'DarkCalibration.bil'"
      ],
      "metadata": {
        "id": "ATKUbMnzA7m6"
      },
      "execution_count": null,
      "outputs": []
    },
    {
      "cell_type": "code",
      "source": [
        "files = os.listdir(PATHinput)\n",
        "groups = defaultdict(list)\n",
        "\n",
        "for f in files:\n",
        "    base, ext = os.path.splitext(f)\n",
        "    parts = base.split('_')\n",
        "\n",
        "    if FILE_NAME_key in parts:\n",
        "        swir_index = parts.index(FILE_NAME_key)\n",
        "        # Group key is everything before 'SWIR'\n",
        "        group_key = '_'.join(parts[:swir_index])\n",
        "        groups[group_key].append(f)\n",
        "\n",
        "# === Parameters from your header info === These are usually all the same across PSI SWIR cameras\n",
        "rows_data = 360\n",
        "rows_cal = 5\n",
        "cols = 510\n",
        "bands = 318\n",
        "start_wavelength = 901.465\n",
        "end_wavelength = 1690.67\n",
        "\n",
        "# Generate wavelengths vector\n",
        "wavelengths = np.linspace(start_wavelength, end_wavelength, bands)\n",
        "# Load BIL data function\n",
        "\n",
        "def load_bil_data(PATHinput0, group_key0, FILE_NAME_key0, suffix0, rows, cols, bands):\n",
        "    file_name0 = f'{PATHinput0}{group_key0}_{FILE_NAME_key0}_{suffix0}'\n",
        "    data = np.fromfile(file_name0, dtype='<u2')  # little-endian uint16\n",
        "    data = data.reshape((rows, bands, cols))\n",
        "    return data\n",
        "\n",
        "def find_band(target_wavelength):\n",
        "    return np.argmin(np.abs(wavelengths - target_wavelength))\n",
        "\n",
        "\n",
        "def save_tiff(img, filename):\n",
        "    # tifffile.imwrite doesn't have dpi parameter, but we can embed metadata\n",
        "    # Here we save raw array as 32-bit float (for precision)\n",
        "    tifffile.imwrite(filename, img.astype('float32'))\n",
        "\n",
        "def ImgParameters(PATHinput0, group_key0, FILE_NAME_key0, Data_Suffix0, Dark_Suffix0, White_Suffix0):\n",
        "  # Load raw and calibration data\n",
        "  raw = load_bil_data(PATHinput0, group_key0, FILE_NAME_key0, Data_Suffix0, rows_data, cols, bands)\n",
        "  dark = load_bil_data(PATHinput0, group_key0, FILE_NAME_key0, Dark_Suffix0, rows_cal, cols, bands)\n",
        "  white = load_bil_data(PATHinput0, group_key0,FILE_NAME_key0, White_Suffix0, rows_cal, cols, bands)\n",
        "  #white\n",
        "  white_avg_spectrum = white.mean(axis=(0, 2))\n",
        "  white_cube_expanded = np.tile(white_avg_spectrum[np.newaxis, :, np.newaxis], (rows_data, 1, cols))\n",
        "  #dark\n",
        "  dark_avg_spectrum = dark.mean(axis=(0, 2))\n",
        "  dark_cube_expanded = np.tile(dark_avg_spectrum[np.newaxis, :, np.newaxis], (rows_data, 1, cols))\n",
        "  #calibration\n",
        "  epsilon = 1e-8\n",
        "  calibrated = (raw - dark_cube_expanded) / (white_cube_expanded - dark_cube_expanded + epsilon)\n",
        "  calibrated = np.transpose(calibrated, (0, 2, 1))\n",
        "  calibrated = np.clip(calibrated, 0, 1)\n",
        "  #bands of interst\n",
        "  nir_band = find_band(900)          # NIR (within 860–950 nm range)\n",
        "  swir1_band = find_band(1250)       # SWIR1 (within 1230–1300 nm range)\n",
        "  swir2_band = find_band(1650)       # SWIR2 (within 1600–1700 nm range)\n",
        "  wl1000_band = find_band(1000)\n",
        "  #filter data\n",
        "  nir = calibrated[:, :, nir_band]   # shape: (360, 510)\n",
        "  swir1 = calibrated[:, :, swir1_band]\n",
        "  swir2 = calibrated[:, :, swir2_band]\n",
        "  wl1000 = calibrated[:, :, wl1000_band]\n",
        "  #Parameters images\n",
        "  #NDWI: Normalized Difference Water Index\n",
        "  ndwi = (nir - swir1) / (nir + swir1 + 1e-6)\n",
        "  # MSI: Moisture Stress Index\n",
        "  msi = swir1 / (nir + 1e-6)\n",
        "  # NDII: Normalized Difference Infrared Index\n",
        "  ndii = (nir - swir2) / (nir + swir2 + 1e-6)\n",
        "  # Save each index\n",
        "  save_tiff(ndwi, f'{PATHoutput}{group_key}ndwi.tiff')\n",
        "  save_tiff(msi, f'{PATHoutput}{group_key}msi.tiff')\n",
        "  save_tiff(ndii, f'{PATHoutput}{group_key}ndii.tiff')\n",
        "  save_tiff(wl1000, f'{PATHoutput}{group_key}wl1000.tiff')\n",
        "  print(f\"Processed and saved indices for group: {group_key0}\")"
      ],
      "metadata": {
        "id": "fqb2ryU4EK2T"
      },
      "execution_count": null,
      "outputs": []
    },
    {
      "cell_type": "code",
      "source": [
        "# Print groups info\n",
        "for group_key, group_files in groups.items():\n",
        "  print(group_key)\n",
        "  ImgParameters(PATHinput, group_key, FILE_NAME_key, Data_Suffix, Dark_Suffix, White_Suffix)\n"
      ],
      "metadata": {
        "colab": {
          "base_uri": "https://localhost:8080/"
        },
        "id": "0mI7Iq1SEbQM",
        "outputId": "1b9ed076-6c43-43a2-e930-088e7929ce00"
      },
      "execution_count": null,
      "outputs": [
        {
          "output_type": "stream",
          "name": "stdout",
          "text": [
            "31_12_2025-03-12_23-32-36_G8_1x1_square_537\n",
            "Processed and saved indices for group: 31_12_2025-03-12_23-32-36_G8_1x1_square_537\n",
            "31_12_2025-03-12_20-15-47_G8_1x1_square_302\n",
            "Processed and saved indices for group: 31_12_2025-03-12_20-15-47_G8_1x1_square_302\n"
          ]
        }
      ]
    }
  ],
  "metadata": {
    "colab": {
      "provenance": []
    },
    "kernelspec": {
      "display_name": "Python 3",
      "name": "python3"
    },
    "language_info": {
      "name": "python"
    }
  },
  "nbformat": 4,
  "nbformat_minor": 0
}